{
 "cells": [
  {
   "cell_type": "markdown",
   "metadata": {},
   "source": [
    "Imports"
   ]
  },
  {
   "cell_type": "code",
   "execution_count": 1,
   "metadata": {},
   "outputs": [],
   "source": [
    "import pandas as pd\n",
    "import numpy as np\n",
    "from tqdm import tqdm\n",
    "from typing import List, Callable, Dict\n",
    "from sklearn.preprocessing import LabelEncoder\n",
    "\n",
    "import re\n",
    "from functools import reduce\n",
    "import nltk\n",
    "from nltk.corpus import stopwords\n",
    "\n",
    "from collections import OrderedDict\n",
    "import gensim\n",
    "import gensim.downloader as gloader\n",
    "\n",
    "import tensorflow as tf\n",
    "from tensorflow import keras\n",
    "from tensorflow.keras.models import Model\n",
    "from tensorflow.keras import layers\n",
    "from tensorflow.keras.layers import *\n",
    "from tensorflow.keras.preprocessing.sequence import pad_sequences\n",
    "\n",
    "import matplotlib.pyplot as plt\n",
    "from sklearn.metrics import f1_score, accuracy_score\n",
    "from functools import partial\n",
    "from sklearn.metrics import classification_report"
   ]
  },
  {
   "cell_type": "markdown",
   "metadata": {},
   "source": [
    "Data pre-processing"
   ]
  },
  {
   "cell_type": "code",
   "execution_count": 2,
   "metadata": {},
   "outputs": [
    {
     "name": "stdout",
     "output_type": "stream",
     "text": [
      "Training data size: (121740, 4)\n",
      "Test data size: (7189, 4)\n",
      "Validation data size: (7165, 4)\n",
      "Classes distribution:\n",
      "1    89389\n",
      "0    32351\n",
      "Name: Label, dtype: int64\n",
      "Some train examples:                                             Claim  \\\n",
      "0  Chris Hemsworth appeared in A Perfect Getaway.   \n",
      "1                         Roald Dahl is a writer.   \n",
      "2                       Roald Dahl is a governor.   \n",
      "\n",
      "                                            Evidence  ID  Label  \n",
      "0  2\\tHemsworth has also appeared in the science ...   3      1  \n",
      "1  0\\tRoald Dahl -LRB- -LSB- langpronˈroʊ.əld _ ˈ...   7      1  \n",
      "2  0\\tRoald Dahl -LRB- -LSB- langpronˈroʊ.əld _ ˈ...   8      0  \n",
      "Some test examples:                                                Claim  \\\n",
      "0    Anxiety has been linked with physical symptoms.   \n",
      "1                         Firefox is an application.   \n",
      "2  Keegan-Michael Key played President Barack Oba...   \n",
      "\n",
      "                                            Evidence     ID  Label  \n",
      "0  13\\tFurthermore , anxiety has been linked with...  16387      1  \n",
      "1  0\\tMozilla Firefox -LRB- or simply Firefox -RR...      6      1  \n",
      "2  6\\tIn 2015 , Key appeared at the White House C...  16392      1  \n",
      "Some validation examples:                                                Claim  \\\n",
      "0  The Indian Army comprises part of the country'...   \n",
      "1                         Recovery features Rihanna.   \n",
      "2                            Rihanna is on Recovery.   \n",
      "\n",
      "                                            Evidence     ID  Label  \n",
      "0  16\\tIt is an all-volunteer force and comprises...  98304      1  \n",
      "1  6\\tEminem also collaborated with artists such ...  98305      1  \n",
      "2  6\\tEminem also collaborated with artists such ...  98306      1  \n"
     ]
    }
   ],
   "source": [
    "#load data\n",
    "trainData = pd.read_csv('./fever_data/train_pairs.csv')\n",
    "testData = pd.read_csv('./fever_data/test_pairs.csv')\n",
    "valData = pd.read_csv('./fever_data/val_pairs.csv')\n",
    "\n",
    "#drop first column\n",
    "trainData = trainData.drop(trainData.columns[0], axis=1)\n",
    "valData = valData.drop(valData.columns[0], axis=1)\n",
    "testData = testData.drop(testData.columns[0], axis=1)\n",
    "\n",
    "#transfer label into 0/1,SUPPORTS-1,REFUTES-0\n",
    "labelencoder = LabelEncoder()\n",
    "labelencoder.fit(trainData['Label'])\n",
    "trainData['Label'] =labelencoder.transform(trainData['Label'])\n",
    "valData['Label'] =labelencoder.transform(valData['Label'])\n",
    "testData['Label'] =labelencoder.transform(testData['Label'])\n",
    "\n",
    "print(\"Training data size: {}\".format(trainData.shape))\n",
    "print(\"Test data size: {}\".format(testData.shape))\n",
    "print(\"Validation data size: {}\".format(valData.shape))\n",
    "print(\"Classes distribution:\\n{}\".format(trainData.Label.value_counts())) \n",
    "\n",
    "print(\"Some train examples: {}\".format(trainData.iloc[:3]))\n",
    "print(\"Some test examples: {}\".format(testData.iloc[:3]))\n",
    "print(\"Some validation examples: {}\".format(valData.iloc[:3]))\n"
   ]
  },
  {
   "cell_type": "markdown",
   "metadata": {},
   "source": [
    "Text cleaning"
   ]
  },
  {
   "cell_type": "code",
   "execution_count": 3,
   "metadata": {},
   "outputs": [
    {
     "name": "stdout",
     "output_type": "stream",
     "text": [
      "Pre-processing text...\n",
      "Before:\n",
      "                                            Claim  \\\n",
      "0  Chris Hemsworth appeared in A Perfect Getaway.   \n",
      "1                         Roald Dahl is a writer.   \n",
      "2                       Roald Dahl is a governor.   \n",
      "\n",
      "                                            Evidence  ID  Label  \n",
      "0  2\\tHemsworth has also appeared in the science ...   3      1  \n",
      "1  0\\tRoald Dahl -LRB- -LSB- langpronˈroʊ.əld _ ˈ...   7      1  \n",
      "2  0\\tRoald Dahl -LRB- -LSB- langpronˈroʊ.əld _ ˈ...   8      0  \n",
      "After:\n",
      "                                               Claim  \\\n",
      "0  [chris, hemsworth, appeared, a, perfect, getaway]   \n",
      "1                              [roald, dahl, writer]   \n",
      "2                            [roald, dahl, governor]   \n",
      "\n",
      "                                            Evidence  ID  Label  \n",
      "0  [hemsworth, also, appeared, science, fiction, ...   3      1  \n",
      "1  [roald, dahl, british, novelist, short, story,...   7      1  \n",
      "2  [roald, dahl, british, novelist, short, story,...   8      0  \n",
      "Pre-processing completed!\n"
     ]
    }
   ],
   "source": [
    "REPLACE_BY_SPACE_RE = re.compile('[/(){}\\[\\]\\|@,;.:`\\-\\'\\\"]')\n",
    "GOOD_SYMBOLS_RE = re.compile('[^0-9a-zA-Z #+_]')\n",
    "#for example: -LSB- eˈlaða -RSB-\n",
    "REMOVE_SB = re.compile('-LSB-(.*?)-RSB-')\n",
    "REMOVE_RB = re.compile('-LRB-|-RRB-')\n",
    "# for example: -LRB- 1944 -RRB-\n",
    "RB_PAIRS = re.compile('-LRB-(.*?)-RRB-') \n",
    "\n",
    "\n",
    "try:\n",
    "    STOPWORDS = set(stopwords.words('english'))\n",
    "except LookupError:\n",
    "    nltk.download('stopwords')\n",
    "    STOPWORDS = set(stopwords.words('english'))\n",
    "\n",
    "def lower(text: str) -> str:\n",
    "    \"\"\"\n",
    "    Transforms given text to lower case.\n",
    "    Example:\n",
    "    Input: 'I really like New York city'\n",
    "    Output: 'i really like new your city'\n",
    "    \"\"\"\n",
    "\n",
    "    return text.lower()\n",
    "\n",
    "def replace_special_characters(text: str) -> str:\n",
    "    \"\"\"\n",
    "    Replaces special characters, such as paranthesis,\n",
    "    with spacing character\n",
    "    \"\"\"\n",
    "\n",
    "    return REPLACE_BY_SPACE_RE.sub(' ', text)\n",
    "\n",
    "def replace_br(text: str) -> str:\n",
    "    \"\"\"\n",
    "    Replaces br characters\n",
    "    \"\"\"\n",
    "\n",
    "    return text.replace(' br ', '')\n",
    "\n",
    "def remove_SB_text(text):\n",
    "    \"\"\"\n",
    "    Removes -LSB- and -RSB- pairs in the text\n",
    "    \"\"\"\n",
    "    return REMOVE_SB.sub('', text)\n",
    "\n",
    "def filter_out_uncommon_symbols(text: str) -> str:\n",
    "    \"\"\"\n",
    "    Removes any special character that is not in the\n",
    "    good symbols list (check regular expression)\n",
    "    \"\"\"\n",
    "\n",
    "    return GOOD_SYMBOLS_RE.sub('', text)\n",
    "\n",
    "def remove_RB_text(text):\n",
    "    \"\"\"\n",
    "    Removes -LRB- -RRB- or -LRB- -RRB- pairs in the text\n",
    "    \"\"\"\n",
    "    sentences = re.findall(RB_PAIRS, text)\n",
    "    for sent in sentences: \n",
    "        if re.search(GOOD_SYMBOLS_RE, sent) is not None:\n",
    "            text = RB_PAIRS.sub('', text, 1)\n",
    "        else:\n",
    "            text = REMOVE_RB.sub('', text, 2)\n",
    "    return text\n",
    "\n",
    "\n",
    "def remove_stopwords(text: str) -> str:\n",
    "    return ' '.join([x for x in text.split() if x and x not in STOPWORDS])\n",
    "\n",
    "\n",
    "def strip_text(text: str) -> str:\n",
    "    \"\"\"\n",
    "    Removes any left or right spacing (including carriage return) from text.\n",
    "    Example:\n",
    "    Input: '  This assignment is cool\\n'\n",
    "    Output: 'This assignment is cool'\n",
    "    \"\"\"\n",
    "\n",
    "    return text.strip()\n",
    "\n",
    "def split_text(text: str) -> str:\n",
    "    return text.split()\n",
    "\n",
    "\n",
    "PREPROCESSING_PIPELINE = [\n",
    "                          remove_SB_text,\n",
    "                          remove_RB_text,\n",
    "                          replace_special_characters,\n",
    "                          replace_br,\n",
    "                          filter_out_uncommon_symbols,\n",
    "                          remove_stopwords,\n",
    "                          lower,\n",
    "                          strip_text,\n",
    "                          split_text\n",
    "                          ]\n",
    "\n",
    "\n",
    "def text_prepare(text: str,filter_methods=PREPROCESSING_PIPELINE):\n",
    "    return reduce(lambda x, f: f(x), filter_methods, text)\n",
    "\n",
    "print('Pre-processing text...')\n",
    "print('Before:\\n{}'.format(trainData[:3]))\n",
    "\n",
    "# Replace each sentence with its pre-processed version\n",
    "trainData.Claim = trainData.Claim.apply(lambda x: text_prepare(x))\n",
    "#forexample: remove \\t in '2\\tHemsworth has also appeared'\n",
    "trainData.Evidence = trainData.Evidence.apply(lambda x: x.split('\\t')[1])\n",
    "trainData.Evidence = trainData.Evidence.apply(lambda x: text_prepare(x))\n",
    "\n",
    "testData.Claim = testData.Claim.apply(lambda x: text_prepare(x))\n",
    "testData.Evidence = testData.Evidence.apply(lambda x: x.split('\\t')[1])\n",
    "testData.Evidence = testData.Evidence.apply(lambda x: text_prepare(x))\n",
    "\n",
    "valData.Claim = valData.Claim.apply(lambda x: text_prepare(x))\n",
    "valData.Evidence = valData.Evidence.apply(lambda x: x.split('\\t')[1])\n",
    "valData.Evidence = valData.Evidence.apply(lambda x: text_prepare(x))\n",
    "\n",
    "\n",
    "print('After:\\n{}'.format(trainData[:3]))\n",
    "print(\"Pre-processing completed!\")"
   ]
  },
  {
   "cell_type": "markdown",
   "metadata": {},
   "source": [
    "Split the data"
   ]
  },
  {
   "cell_type": "code",
   "execution_count": 4,
   "metadata": {},
   "outputs": [
    {
     "name": "stdout",
     "output_type": "stream",
     "text": [
      "Train claim data:  (121740,)\n",
      "Train evidence data:  (121740,)\n",
      "Train label:  (121740,)\n",
      "Validation claim data:  (7165,)\n",
      "Validation evidence data:  (7165,)\n",
      "Validation label:  (7165,)\n",
      "Test claim data:  (7189,)\n",
      "Test evidence data:  (7189,)\n",
      "Test label:  (7189,)\n"
     ]
    }
   ],
   "source": [
    "x_train_Claim = trainData.Claim.values\n",
    "x_train_Evidence = trainData.Evidence.values\n",
    "y_train = trainData.Label.values\n",
    "x_test_Claim = testData.Claim.values\n",
    "x_test_Evidence = testData.Evidence.values\n",
    "y_test = testData.Label.values\n",
    "x_val_Claim = valData.Claim.values\n",
    "x_val_Evidence = valData.Evidence.values\n",
    "y_val = valData.Label.values\n",
    "\n",
    "print('Train claim data: ', x_train_Claim.shape)\n",
    "print('Train evidence data: ', x_train_Evidence.shape)\n",
    "print('Train label: ', y_train.shape)\n",
    "print('Validation claim data: ', x_val_Claim.shape)\n",
    "print('Validation evidence data: ', x_val_Evidence.shape)\n",
    "print('Validation label: ', y_val.shape)\n",
    "print('Test claim data: ', x_test_Claim.shape)\n",
    "print('Test evidence data: ', x_test_Evidence.shape)\n",
    "print('Test label: ', y_test.shape)\n"
   ]
  },
  {
   "cell_type": "markdown",
   "metadata": {},
   "source": [
    "Vocabulary creation"
   ]
  },
  {
   "cell_type": "code",
   "execution_count": 5,
   "metadata": {},
   "outputs": [
    {
     "name": "stderr",
     "output_type": "stream",
     "text": [
      "100%|██████████| 257810/257810 [00:00<00:00, 496160.20it/s]"
     ]
    },
    {
     "name": "stdout",
     "output_type": "stream",
     "text": [
      "Index -> Word vocabulary size: 31448\n",
      "Word -> Index vocabulary size: 31448\n",
      "The corpus length: 31448\n",
      "Some words: [('hemsworth', 1), ('appeared', 2), ('a', 3), ('perfect', 4), ('getaway', 5), ('roald', 6), ('dahl', 7), ('writer', 8), ('governor', 9), ('ireland', 10)]\n"
     ]
    },
    {
     "name": "stderr",
     "output_type": "stream",
     "text": [
      "\n"
     ]
    }
   ],
   "source": [
    "# Function definition\n",
    "def build_vocabulary(df: pd.DataFrame) -> (Dict[int, str],Dict[str, int],List[str]):\n",
    "\n",
    "    idx_to_word = OrderedDict()\n",
    "    word_to_idx = OrderedDict()\n",
    "    curr_idx = 0\n",
    "    \n",
    "    for sentence in tqdm(df.values):\n",
    "        tokens = sentence\n",
    "        for token in tokens:\n",
    "          if token not in word_to_idx:\n",
    "              word_to_idx[token] = curr_idx\n",
    "              idx_to_word[curr_idx] = token\n",
    "              curr_idx += 1\n",
    "\n",
    "    word_listing = list(idx_to_word.values())\n",
    "    return idx_to_word, word_to_idx, word_listing\n",
    "\n",
    "corpus = pd.concat([trainData.Claim,trainData.Evidence,valData.Claim,valData.Evidence],ignore_index=True)\n",
    "idx_to_word, word_to_idx, word_listing = build_vocabulary(corpus)\n",
    "\n",
    "print('Index -> Word vocabulary size: {}'.format(len(idx_to_word)))\n",
    "print('Word -> Index vocabulary size: {}'.format(len(word_to_idx)))\n",
    "print('The corpus length: {}'.format(len(word_listing)))\n",
    "print('Some words: {}'.format([(idx_to_word[idx], idx) for idx in np.arange(10) + 1]))\n"
   ]
  },
  {
   "cell_type": "markdown",
   "metadata": {},
   "source": [
    "Downloading the embedding model"
   ]
  },
  {
   "cell_type": "code",
   "execution_count": 6,
   "metadata": {},
   "outputs": [],
   "source": [
    "#download the glove\n",
    "embedding_dimension = 50\n",
    "download_path = \"glove-wiki-gigaword-{}\".format(embedding_dimension)\n",
    "\n",
    "try:\n",
    "    embedding_model = gloader.load(download_path)\n",
    "except ValueError as e:\n",
    "    print(\"Invalid embedding model name! Check the embedding dimension:\")\n",
    "    print(\"Glove: 50, 100, 200, 300\")\n",
    "    raise e\n"
   ]
  },
  {
   "cell_type": "code",
   "execution_count": 7,
   "metadata": {},
   "outputs": [
    {
     "name": "stdout",
     "output_type": "stream",
     "text": [
      "Total OOV terms: 1949 (6.20%)\n"
     ]
    }
   ],
   "source": [
    "# check oov terms \n",
    "def check_OOV_terms(embedding_model,word_listing):\n",
    "    embedding_vocabulary = set(embedding_model.key_to_index.keys())\n",
    "    oov = set(word_listing).difference(embedding_vocabulary)\n",
    "    return list(oov)\n",
    "\n",
    "oov_terms = check_OOV_terms(embedding_model, word_listing)\n",
    "print(\"Total OOV terms: {0} ({1:.2f}%)\".format(len(oov_terms), float(len(oov_terms)) / len(word_listing)*100))"
   ]
  },
  {
   "cell_type": "code",
   "execution_count": 8,
   "metadata": {},
   "outputs": [
    {
     "name": "stdout",
     "output_type": "stream",
     "text": [
      "Tokenizer vocabulary length: 31450\n"
     ]
    }
   ],
   "source": [
    "from tensorflow.keras.preprocessing.text import Tokenizer\n",
    "oov_token = \"<OOV>\"\n",
    "tokenizer = Tokenizer(oov_token=oov_token)\n",
    "tokenizer.fit_on_texts(corpus)\n",
    "\n",
    "vocabLength = len(tokenizer.word_index)+1 \n",
    "print(\"Tokenizer vocabulary length: {}\".format(vocabLength))"
   ]
  },
  {
   "cell_type": "markdown",
   "metadata": {},
   "source": [
    "Bulid the embedding matrix"
   ]
  },
  {
   "cell_type": "code",
   "execution_count": 9,
   "metadata": {},
   "outputs": [
    {
     "name": "stderr",
     "output_type": "stream",
     "text": [
      "100%|██████████| 31449/31449 [00:00<00:00, 281469.94it/s]"
     ]
    },
    {
     "name": "stdout",
     "output_type": "stream",
     "text": [
      "Embedding matrix shape: (31450, 50)\n"
     ]
    },
    {
     "name": "stderr",
     "output_type": "stream",
     "text": [
      "\n"
     ]
    }
   ],
   "source": [
    "# Function definition\n",
    "\n",
    "def build_embedding_matrix(embedding_model: gensim.models.keyedvectors.KeyedVectors,\n",
    "                           embedding_dimension: int,\n",
    "                           word_to_idx: Dict[str, int]) -> np.ndarray:\n",
    "\n",
    "    embedding_matrix = np.zeros((len(word_to_idx)+1, embedding_dimension))\n",
    "    for word, i in tqdm(word_to_idx.items()):\n",
    "        try:\n",
    "            embedding_vector = embedding_model[word]\n",
    "        except (KeyError, TypeError):\n",
    "            embedding_vector = np.random.uniform(low=-0.05, high=0.05, size=embedding_dimension)\n",
    "\n",
    "        embedding_matrix[i] = embedding_vector\n",
    "\n",
    "    return embedding_matrix\n",
    "\n",
    "\n",
    "embedding_matrix = build_embedding_matrix(embedding_model, embedding_dimension, tokenizer.word_index)\n",
    "\n",
    "print(\"Embedding matrix shape: {}\".format(embedding_matrix.shape))"
   ]
  },
  {
   "cell_type": "markdown",
   "metadata": {},
   "source": [
    "Data Convertion"
   ]
  },
  {
   "cell_type": "code",
   "execution_count": 10,
   "metadata": {},
   "outputs": [
    {
     "name": "stdout",
     "output_type": "stream",
     "text": [
      "Max sentence length is: 91 words\n",
      "[[ 267. 2253.   68.   26.  975. 5565.    0.    0.    0.    0.    0.    0.\n",
      "     0.    0.    0.    0.    0.    0.    0.    0.    0.    0.    0.    0.\n",
      "     0.    0.    0.    0.    0.    0.    0.    0.    0.    0.    0.    0.\n",
      "     0.    0.    0.    0.    0.    0.    0.    0.    0.    0.    0.    0.\n",
      "     0.    0.    0.    0.    0.    0.    0.    0.    0.    0.    0.    0.\n",
      "     0.    0.    0.    0.    0.    0.    0.    0.    0.    0.    0.    0.\n",
      "     0.    0.    0.    0.    0.    0.    0.    0.    0.    0.    0.    0.\n",
      "     0.    0.    0.    0.    0.    0.    0.]\n",
      " [5190. 4133.   99.    0.    0.    0.    0.    0.    0.    0.    0.    0.\n",
      "     0.    0.    0.    0.    0.    0.    0.    0.    0.    0.    0.    0.\n",
      "     0.    0.    0.    0.    0.    0.    0.    0.    0.    0.    0.    0.\n",
      "     0.    0.    0.    0.    0.    0.    0.    0.    0.    0.    0.    0.\n",
      "     0.    0.    0.    0.    0.    0.    0.    0.    0.    0.    0.    0.\n",
      "     0.    0.    0.    0.    0.    0.    0.    0.    0.    0.    0.    0.\n",
      "     0.    0.    0.    0.    0.    0.    0.    0.    0.    0.    0.    0.\n",
      "     0.    0.    0.    0.    0.    0.    0.]\n",
      " [5190. 4133.  831.    0.    0.    0.    0.    0.    0.    0.    0.    0.\n",
      "     0.    0.    0.    0.    0.    0.    0.    0.    0.    0.    0.    0.\n",
      "     0.    0.    0.    0.    0.    0.    0.    0.    0.    0.    0.    0.\n",
      "     0.    0.    0.    0.    0.    0.    0.    0.    0.    0.    0.    0.\n",
      "     0.    0.    0.    0.    0.    0.    0.    0.    0.    0.    0.    0.\n",
      "     0.    0.    0.    0.    0.    0.    0.    0.    0.    0.    0.    0.\n",
      "     0.    0.    0.    0.    0.    0.    0.    0.    0.    0.    0.    0.\n",
      "     0.    0.    0.    0.    0.    0.    0.]]\n",
      "X claim train shape:  (121740, 91)\n",
      "X evidence train shape:  (121740, 91)\n",
      "Y train shape:  (121740,)\n",
      "X claim val shape:  (7165, 91)\n",
      "X evidence val shape:  (7165, 91)\n",
      "Y val shape:  (7165,)\n",
      "X claim test shape:  (7189, 91)\n",
      "X evidence test shape:  (7189, 91)\n",
      "Y test shape:  (7189,)\n"
     ]
    }
   ],
   "source": [
    "from tensorflow.keras.preprocessing.sequence import pad_sequences\n",
    "def convert_text(texts, tokenizer,max_seq_length):\n",
    "\n",
    "    text_ids = tokenizer.texts_to_sequences(texts)\n",
    "    text_ids = pad_sequences(text_ids, padding='post', truncating='post', maxlen=max_seq_length,dtype='float32')\n",
    "    # text_ids = [seq + [0] * (max_seq_length - len(seq)) for seq in text_ids]\n",
    "    # text_ids = np.array([seq[:max_seq_length] for seq in text_ids])\n",
    "\n",
    "    return text_ids\n",
    "\n",
    "max_seq_length = max(len(x) for x in corpus)\n",
    "print(\"Max sentence length is: {} words\".format(max_seq_length))\n",
    "\n",
    "# Train\n",
    "x_train_Claim = convert_text(x_train_Claim, tokenizer,max_seq_length)\n",
    "x_train_Evidence = convert_text(x_train_Evidence, tokenizer,max_seq_length)\n",
    "\n",
    "print(x_train_Claim[:3])\n",
    "print('X claim train shape: ', x_train_Claim.shape)\n",
    "print('X evidence train shape: ', x_train_Evidence.shape)\n",
    "print('Y train shape: ', y_train.shape)\n",
    "\n",
    "# Val\n",
    "x_val_Claim = convert_text(x_val_Claim, tokenizer,max_seq_length)\n",
    "x_val_Evidence = convert_text(x_val_Evidence, tokenizer,max_seq_length)\n",
    "print('X claim val shape: ', x_val_Claim.shape)\n",
    "print('X evidence val shape: ', x_val_Evidence.shape)\n",
    "print('Y val shape: ', y_val.shape)\n",
    "\n",
    "# Test\n",
    "x_test_Claim = convert_text(x_test_Claim, tokenizer,max_seq_length)\n",
    "x_test_Evidence = convert_text(x_test_Evidence, tokenizer,max_seq_length)\n",
    "print('X claim test shape: ', x_test_Claim.shape)\n",
    "print('X evidence test shape: ', x_test_Evidence.shape)\n",
    "print('Y test shape: ', y_test.shape)"
   ]
  },
  {
   "cell_type": "code",
   "execution_count": 11,
   "metadata": {},
   "outputs": [],
   "source": [
    "from tensorflow.keras import backend as K\n",
    "\n",
    "#Cosine similarity\n",
    "def cosine_distance(vests):\n",
    "    x, y = vests\n",
    "    x = K.l2_normalize(x, axis=-1)\n",
    "    y = K.l2_normalize(y, axis=-1)\n",
    "    return -K.mean(x * y, axis=-1, keepdims=True)\n",
    "\n",
    "def cos_dist_output_shape(shapes):\n",
    "    shape1, shape2 = shapes\n",
    "    return (shape1[0],1)\n",
    "\n",
    "\n",
    "# merging strategy and Concatenate cosine similarity to the result\n",
    "def merge_multi_inputs(strategy,input1,input2):\n",
    "\n",
    "  distance = Lambda(cosine_distance, output_shape=cos_dist_output_shape)([input1, input2])\n",
    "  merge = []\n",
    "  if strategy == 'concatenation':\n",
    "    merge = Concatenate()([input1, input2])\n",
    "  elif strategy == 'sum':\n",
    "    merge = Add()([input1, input2])\n",
    "  elif strategy == 'mean':\n",
    "    merge = Average()([input1, input2])\n",
    "  #concatenate cosine similarity with the claim and evidence\n",
    "  merge = Concatenate()([merge, distance])\n",
    "  return merge\n",
    "\n"
   ]
  },
  {
   "cell_type": "markdown",
   "metadata": {},
   "source": [
    "Model Definition"
   ]
  },
  {
   "cell_type": "markdown",
   "metadata": {},
   "source": [
    "Lstm: take the last state as the sentence embedding"
   ]
  },
  {
   "cell_type": "code",
   "execution_count": 12,
   "metadata": {},
   "outputs": [],
   "source": [
    "def create_lstm_model1(merging_stragegy : str,compile_info: Dict) -> keras.Model:\n",
    "\n",
    "    #input layer\n",
    "    claimInput=Input(shape=(max_seq_length,))\n",
    "    embedding_layer_claim = Embedding(input_dim = vocabLength,\n",
    "                                output_dim = embedding_dimension,\n",
    "                                weights= [embedding_matrix],\n",
    "                                input_length=max_seq_length,\n",
    "                                mask_zero = True,\n",
    "                                name = \"embedding_layer_claim\")(claimInput)\n",
    "    eviInput=Input(shape=(max_seq_length,))\n",
    "    embedding_layer_evi = Embedding(input_dim = vocabLength,\n",
    "                                output_dim = embedding_dimension,\n",
    "                                weights=[embedding_matrix],\n",
    "                                input_length=max_seq_length,\n",
    "                                mask_zero = True,\n",
    "                                name = \"embedding_layer_evi\")(eviInput)\n",
    "    #lstm layer\n",
    "    Lstm_layer_claim = Bidirectional(LSTM(64))(embedding_layer_claim)\n",
    "    Lstm_layer_evi = Bidirectional(LSTM(64))(embedding_layer_evi)\n",
    "\n",
    "    # merge claim + evidence + cosine similarity\n",
    "    merge_data = merge_multi_inputs(merging_stragegy,Lstm_layer_claim,Lstm_layer_evi)\n",
    "   \n",
    "    dense_output1 = Dense(units = 256, activation = \"relu\", name=\"dense_1\")(merge_data)\n",
    "    dense_output2 = Dense(units = 64, activation = \"relu\", name=\"dense_2\")(dense_output1)\n",
    "    dropout_output = Dropout(0.2)(dense_output2) #overfitting\n",
    "    last_output = Dense(units = 1, activation = \"sigmoid\", name=\"logits\")(dropout_output)\n",
    "\n",
    "    model = Model(inputs=[claimInput,eviInput], outputs=last_output)  \n",
    "    model.summary()\n",
    "    model.compile(**compile_info)\n",
    "\n",
    "    return model"
   ]
  },
  {
   "cell_type": "markdown",
   "metadata": {},
   "source": [
    "Lstm: average all the output states."
   ]
  },
  {
   "cell_type": "code",
   "execution_count": 13,
   "metadata": {},
   "outputs": [],
   "source": [
    "def create_lstm_model2(merging_stragegy : str,compile_info: Dict) -> keras.Model:\n",
    "\n",
    "    #input layer  \n",
    "    claimInput=Input(shape=(max_seq_length,))\n",
    "    embedding_layer_claim = Embedding(input_dim = vocabLength,\n",
    "                                output_dim = embedding_dimension,\n",
    "                                weights= [embedding_matrix],\n",
    "                                input_length=max_seq_length,\n",
    "                                mask_zero = True,\n",
    "                                name = \"embedding_layer_claim\")(claimInput)\n",
    "    eviInput=Input(shape=(max_seq_length,))\n",
    "    embedding_layer_evi = Embedding(input_dim = vocabLength,\n",
    "                                output_dim = embedding_dimension,\n",
    "                                weights=[embedding_matrix],\n",
    "                                input_length=max_seq_length,\n",
    "                                mask_zero = True,\n",
    "                                name = \"embedding_layer_evi\")(eviInput)\n",
    "    #lstm layer\n",
    "    #return_sequence=True output shape:3d / return_sequence=flase output shape:2d\n",
    "    Lstm_layer_claim = Bidirectional(LSTM(64,return_sequences=True))(embedding_layer_claim)\n",
    "    Lstm_layer_evi = Bidirectional(LSTM(64,return_sequences=True))(embedding_layer_evi)\n",
    "    #average the output\n",
    "    average_claim = GlobalAveragePooling1D()(Lstm_layer_claim)\n",
    "    average_evi = GlobalAveragePooling1D()(Lstm_layer_evi)\n",
    "    # merge claim + evidence + cosine similarity\n",
    "    merge_data = merge_multi_inputs(merging_stragegy,average_claim,average_evi)\n",
    "    dense_output1 = Dense(units = 256, activation = \"relu\", name=\"dense_1\")(merge_data)\n",
    "    dense_output2 = Dense(units = 64, activation = \"relu\", name=\"dense_2\")(dense_output1)\n",
    "    dropout_output = Dropout(0.2)(dense_output2)\n",
    "    last_output = Dense(units = 1, activation = \"sigmoid\", name=\"logits\")(dropout_output)\n",
    "\n",
    "    model = Model(inputs=[claimInput,eviInput], outputs=last_output)\n",
    "    model.summary()\n",
    "    model.compile(**compile_info)\n",
    "\n",
    "    return model"
   ]
  },
  {
   "cell_type": "markdown",
   "metadata": {},
   "source": [
    "MLP：reshape the 3D input to 2D"
   ]
  },
  {
   "cell_type": "code",
   "execution_count": 14,
   "metadata": {},
   "outputs": [],
   "source": [
    "def create_mlp_model(merging_stragegy : str,compile_info: Dict) -> keras.Model:\n",
    "\n",
    "    # input layer\n",
    "    claimInput=Input(shape=(max_seq_length,))\n",
    "    embedding_layer_claim = Embedding(input_dim = vocabLength,\n",
    "                                output_dim = embedding_dimension,\n",
    "                                weights= [embedding_matrix],\n",
    "                                input_length=max_seq_length,\n",
    "                                mask_zero = True,\n",
    "                                name = \"embedding_layer_claim\")(claimInput)\n",
    "    eviInput=Input(shape=(max_seq_length,))\n",
    "    embedding_layer_evi = Embedding(input_dim = vocabLength,\n",
    "                                output_dim = embedding_dimension,\n",
    "                                weights=[embedding_matrix],\n",
    "                                input_length=max_seq_length,\n",
    "                                mask_zero = True,\n",
    "                                name = \"embedding_layer_evi\")(eviInput)\n",
    "    # reshape the 3D input from `[batch_size, max_tokens, embedding_dim]` to `[batch_size, max_tokens * embedding_dim]`\n",
    "    reshape_claim = Reshape((embedding_layer_claim.shape[2] * embedding_layer_claim.shape[1],))(embedding_layer_claim)\n",
    "    reshape_evi = Reshape((embedding_layer_evi.shape[2] * embedding_layer_evi.shape[1],))(embedding_layer_evi)\n",
    "    # merge claim + evidence + cosine similarity \n",
    "    merge_data = merge_multi_inputs(merging_stragegy,reshape_claim,reshape_evi)\n",
    "    dense_output1 = Dense(units = 256, activation = \"relu\", name=\"dense_1\")(merge_data)\n",
    "    dense_output2 = Dense(units = 64, activation = \"relu\", name=\"dense_2\")(dense_output1)\n",
    "    dropout_output = Dropout(0.2)(dense_output2)\n",
    "    last_output = Dense(units = 1, activation = \"sigmoid\", name=\"logits\")(dropout_output)\n",
    "\n",
    "    model = Model(inputs=[claimInput,eviInput], outputs=last_output)\n",
    "    model.summary()\n",
    "    model.compile(**compile_info)\n",
    "\n",
    "    return model"
   ]
  },
  {
   "cell_type": "markdown",
   "metadata": {},
   "source": [
    "BOV:Compute the sentence embedding as the mean of its token embeddings"
   ]
  },
  {
   "cell_type": "code",
   "execution_count": 15,
   "metadata": {},
   "outputs": [],
   "source": [
    "def create_bov_model(merging_stragegy : str,compile_info: Dict) -> keras.Model:\n",
    "\n",
    "    #input layer\n",
    "    claimInput=Input(shape=(max_seq_length,))\n",
    "    embedding_layer_claim = Embedding(input_dim = vocabLength,\n",
    "                                output_dim = embedding_dimension,\n",
    "                                weights= [embedding_matrix],\n",
    "                                input_length=max_seq_length,\n",
    "                                mask_zero = True,\n",
    "                                name = \"embedding_layer_claim\")(claimInput)\n",
    "    eviInput=Input(shape=(max_seq_length,))\n",
    "    embedding_layer_evi = Embedding(input_dim = vocabLength,\n",
    "                                output_dim = embedding_dimension,\n",
    "                                weights=[embedding_matrix],\n",
    "                                input_length=max_seq_length,\n",
    "                                mask_zero = True,\n",
    "                                name = \"embedding_layer_evi\")(eviInput)\n",
    "    # compute the mean\n",
    "    average_claim = GlobalAveragePooling1D()(embedding_layer_claim)\n",
    "    average_evi = GlobalAveragePooling1D()(embedding_layer_evi)\n",
    "    # merge claim + evidence + cosine similarity\n",
    "    merge_data = merge_multi_inputs(merging_stragegy,average_claim,average_evi)\n",
    "   \n",
    "    dense_output1 = Dense(units = 256, activation = \"relu\", name=\"dense_1\")(merge_data)\n",
    "    dense_output2 = Dense(units = 64, activation = \"relu\", name=\"dense_2\")(dense_output1)\n",
    "    dropout_output = Dropout(0.2)(dense_output2)\n",
    "    last_output = Dense(units = 1, activation = \"sigmoid\", name=\"logits\")(dropout_output)\n",
    "\n",
    "    model = Model(inputs=[claimInput,eviInput], outputs=last_output)\n",
    "    model.summary()\n",
    "    model.compile(**compile_info)\n",
    "\n",
    "    return model"
   ]
  },
  {
   "cell_type": "code",
   "execution_count": 16,
   "metadata": {},
   "outputs": [],
   "source": [
    "merging_strategy = [\n",
    "    'concatenation', \n",
    "    'sum',\n",
    "    'mean'\n",
    "]\n",
    "\n",
    "compile_info = {\n",
    "    'optimizer': keras.optimizers.Adam(learning_rate=1e-3),\n",
    "    'loss': 'binary_crossentropy',\n",
    "    'metrics': ['accuracy'],\n",
    "}\n",
    "\n"
   ]
  },
  {
   "cell_type": "code",
   "execution_count": 17,
   "metadata": {},
   "outputs": [],
   "source": [
    "# plot the accuracy and loss\n",
    "def show_history(history: keras.callbacks.History):\n",
    "    acc = history.history['accuracy']\n",
    "    val_acc = history.history['val_accuracy']\n",
    "    loss = history.history['loss']\n",
    "    val_loss = history.history['val_loss']\n",
    "    epochs = range(len(acc))\n",
    "\n",
    "    #accuracy image\n",
    "    plt.plot(epochs,acc, 'b', label='Training accuracy')\n",
    "    plt.plot(epochs, val_acc, 'r', label='validation accuracy')\n",
    "    plt.title('Training and validation accuracy')\n",
    "    plt.legend(loc='lower right')\n",
    "    plt.figure()\n",
    "\n",
    "    #loss image\n",
    "    plt.plot(epochs, loss, 'r', label='Training loss')\n",
    "    plt.plot(epochs, val_loss, 'b', label='validation loss')\n",
    "    plt.title('Training and validation loss')\n",
    "    plt.legend()\n",
    "    plt.show()\n",
    "\n",
    "\n",
    "def train_model(model: keras.Model,\n",
    "                x_train_Claim: np.ndarray,\n",
    "                x_train_Evidence: np.ndarray,\n",
    "                y_train: np.ndarray,\n",
    "                x_val_Claim: np.ndarray,\n",
    "                x_val_Evidence: np.ndarray,\n",
    "                y_val: np.ndarray,\n",
    "                training_info: Dict):\n",
    "\n",
    "    print(\"Start training! \\nParameters: {}\".format(training_info))\n",
    "    history = model.fit(x=(x_train_Claim,x_train_Evidence), y=y_train,\n",
    "                        validation_data=([x_val_Claim,x_val_Evidence], y_val),\n",
    "                        **training_info)\n",
    "    print(\"Training completed! Showing history...\")\n",
    "\n",
    "    show_history(history)\n",
    "\n",
    "    return model\n",
    "\n",
    "def predict_data(model: keras.Model,\n",
    "                 x_test_Claim: np.ndarray,\n",
    "                 x_test_Evidence:np.ndarray,\n",
    "                 prediction_info: Dict) -> np.ndarray:\n",
    "\n",
    "    print('Starting prediction: \\n{}'.format(prediction_info))\n",
    "    print('Predicting on {} samples'.format(x_test_Claim.shape[0]))\n",
    "\n",
    "    predictions = model.predict([x_test_Claim,x_test_Evidence], **prediction_info)\n",
    "    return predictions\n",
    "\n",
    "\n",
    "def evaluate_predictions(predictions: np.ndarray,\n",
    "                         y: np.ndarray,\n",
    "                         metrics: List[Callable],\n",
    "                         metric_names: List[str]):\n",
    "\n",
    "    assert len(metrics) == len(metric_names)\n",
    "\n",
    "    print(\"Evaluating predictions! Total samples: \", y.shape[0])\n",
    "\n",
    "    metric_info = {}\n",
    "\n",
    "    for metric, metric_name in zip(metrics, metric_names):\n",
    "        metric_value = metric(y_pred=predictions, y_true=y)\n",
    "        metric_info[metric_name] = metric_value\n",
    "\n",
    "    return metric_info\n",
    "\n",
    "\n",
    "# Training info\n",
    "training_info = {\n",
    "    'verbose': 1,\n",
    "    'epochs': 30,\n",
    "    'batch_size': 128,\n",
    "    'callbacks': [keras.callbacks.EarlyStopping(monitor='val_loss', \n",
    "                                                patience=10,\n",
    "                                                restore_best_weights=True)]\n",
    "}\n",
    "# prediction info\n",
    "prediction_info = {\n",
    "    'batch_size': 128,\n",
    "    'verbose': 1\n",
    "}\n",
    "\n",
    "# Evaluation info\n",
    "metrics = [\n",
    "    accuracy_score,\n",
    "    partial(f1_score, pos_label=1, average='binary')\n",
    "]\n",
    "metric_names = [\n",
    "    \"accuracy\",\n",
    "    \"binary_f1\"\n",
    "]\n"
   ]
  },
  {
   "cell_type": "markdown",
   "metadata": {},
   "source": [
    "Performance evaluation"
   ]
  },
  {
   "cell_type": "markdown",
   "metadata": {},
   "source": [
    "Multi-input classification evaluation"
   ]
  },
  {
   "cell_type": "code",
   "execution_count": 18,
   "metadata": {},
   "outputs": [],
   "source": [
    "def print_evaluation(testLable,testPrediction):\n",
    "    report = classification_report(testLable, testPrediction,zero_division=True,labels=[0,1], target_names=[\"REFUTES\", \"SUPPORTS\"])\n",
    "    print(report)"
   ]
  },
  {
   "cell_type": "markdown",
   "metadata": {},
   "source": [
    "Claim verification evaluation"
   ]
  },
  {
   "cell_type": "code",
   "execution_count": 19,
   "metadata": {},
   "outputs": [],
   "source": [
    "import copy\n",
    "def print_verifEvaluation(testPrediction):\n",
    "    testDataCopy = copy.deepcopy(testData)\n",
    "    testDataCopy.insert(4,'Prediction',testPrediction)\n",
    "    rule = lambda x: x.mode().iat[0]\n",
    "    voting_test_label = testDataCopy.groupby('ID')['Label'].apply(rule).reset_index(name='Majority_Label')\n",
    "    voting_predict_label = testDataCopy.groupby('ID')['Prediction'].apply(rule).reset_index(name='Majority_Label')\n",
    "\n",
    "    report = classification_report(voting_test_label['Majority_Label'], voting_predict_label['Majority_Label'],zero_division=True,labels=[0,1], target_names=[\"REFUTES\", \"SUPPORTS\"])\n",
    "    print(report)\n"
   ]
  },
  {
   "cell_type": "markdown",
   "metadata": {},
   "source": [
    "Choose one model and try all merging strategies"
   ]
  },
  {
   "cell_type": "code",
   "execution_count": 20,
   "metadata": {},
   "outputs": [
    {
     "name": "stdout",
     "output_type": "stream",
     "text": [
      "Model: \"functional_1\"\n",
      "__________________________________________________________________________________________________\n",
      "Layer (type)                    Output Shape         Param #     Connected to                     \n",
      "==================================================================================================\n",
      "input_1 (InputLayer)            [(None, 91)]         0                                            \n",
      "__________________________________________________________________________________________________\n",
      "input_2 (InputLayer)            [(None, 91)]         0                                            \n",
      "__________________________________________________________________________________________________\n",
      "embedding_layer_claim (Embeddin (None, 91, 50)       1572500     input_1[0][0]                    \n",
      "__________________________________________________________________________________________________\n",
      "embedding_layer_evi (Embedding) (None, 91, 50)       1572500     input_2[0][0]                    \n",
      "__________________________________________________________________________________________________\n",
      "reshape (Reshape)               (None, 4550)         0           embedding_layer_claim[0][0]      \n",
      "__________________________________________________________________________________________________\n",
      "reshape_1 (Reshape)             (None, 4550)         0           embedding_layer_evi[0][0]        \n",
      "__________________________________________________________________________________________________\n",
      "concatenate (Concatenate)       (None, 9100)         0           reshape[0][0]                    \n",
      "                                                                 reshape_1[0][0]                  \n",
      "__________________________________________________________________________________________________\n",
      "lambda (Lambda)                 (None, 1)            0           reshape[0][0]                    \n",
      "                                                                 reshape_1[0][0]                  \n",
      "__________________________________________________________________________________________________\n",
      "concatenate_1 (Concatenate)     (None, 9101)         0           concatenate[0][0]                \n",
      "                                                                 lambda[0][0]                     \n",
      "__________________________________________________________________________________________________\n",
      "dense_1 (Dense)                 (None, 256)          2330112     concatenate_1[0][0]              \n",
      "__________________________________________________________________________________________________\n",
      "dense_2 (Dense)                 (None, 64)           16448       dense_1[0][0]                    \n",
      "__________________________________________________________________________________________________\n",
      "dropout (Dropout)               (None, 64)           0           dense_2[0][0]                    \n",
      "__________________________________________________________________________________________________\n",
      "logits (Dense)                  (None, 1)            65          dropout[0][0]                    \n",
      "==================================================================================================\n",
      "Total params: 5,491,625\n",
      "Trainable params: 5,491,625\n",
      "Non-trainable params: 0\n",
      "__________________________________________________________________________________________________\n",
      "Start training! \n",
      "Parameters: {'verbose': 1, 'epochs': 30, 'batch_size': 128, 'callbacks': [<tensorflow.python.keras.callbacks.EarlyStopping object at 0x0000012D94B47280>]}\n",
      "Epoch 1/30\n",
      "952/952 [==============================] - 58s 61ms/step - loss: 0.5322 - accuracy: 0.7561 - val_loss: 0.6775 - val_accuracy: 0.5969\n",
      "Epoch 2/30\n",
      "952/952 [==============================] - 61s 64ms/step - loss: 0.4585 - accuracy: 0.7908 - val_loss: 0.6689 - val_accuracy: 0.6331\n",
      "Epoch 3/30\n",
      "952/952 [==============================] - 63s 66ms/step - loss: 0.4102 - accuracy: 0.8127 - val_loss: 0.7078 - val_accuracy: 0.6415\n",
      "Epoch 4/30\n",
      "952/952 [==============================] - 65s 69ms/step - loss: 0.3707 - accuracy: 0.8296 - val_loss: 0.7225 - val_accuracy: 0.6606\n",
      "Epoch 5/30\n",
      "952/952 [==============================] - 64s 67ms/step - loss: 0.3356 - accuracy: 0.8432 - val_loss: 0.7196 - val_accuracy: 0.6565\n",
      "Epoch 6/30\n",
      "952/952 [==============================] - 63s 66ms/step - loss: 0.3027 - accuracy: 0.8571 - val_loss: 0.8495 - val_accuracy: 0.6523\n",
      "Epoch 7/30\n",
      "952/952 [==============================] - 66s 69ms/step - loss: 0.2742 - accuracy: 0.8690 - val_loss: 0.9647 - val_accuracy: 0.6571\n",
      "Epoch 8/30\n",
      "952/952 [==============================] - 61s 64ms/step - loss: 0.2469 - accuracy: 0.8804 - val_loss: 1.0862 - val_accuracy: 0.6607\n",
      "Epoch 9/30\n",
      "952/952 [==============================] - 65s 68ms/step - loss: 0.2250 - accuracy: 0.8898 - val_loss: 1.2609 - val_accuracy: 0.6657\n",
      "Epoch 10/30\n",
      "952/952 [==============================] - 63s 66ms/step - loss: 0.2046 - accuracy: 0.8997 - val_loss: 1.4286 - val_accuracy: 0.6646\n",
      "Epoch 11/30\n",
      "952/952 [==============================] - 63s 66ms/step - loss: 0.1886 - accuracy: 0.9063 - val_loss: 1.5728 - val_accuracy: 0.6596\n",
      "Epoch 12/30\n",
      "952/952 [==============================] - 64s 67ms/step - loss: 0.1755 - accuracy: 0.9127 - val_loss: 1.7271 - val_accuracy: 0.6662\n",
      "Training completed! Showing history...\n"
     ]
    },
    {
     "data": {
      "image/png": "[encoded data removed]",
      "text/plain": [
       "<Figure size 432x288 with 1 Axes>"
      ]
     },
     "metadata": {
      "needs_background": "light"
     },
     "output_type": "display_data"
    },
    {
     "data": {
      "image/png": "[encoded data removed]",
      "text/plain": [
       "<Figure size 432x288 with 1 Axes>"
      ]
     },
     "metadata": {
      "needs_background": "light"
     },
     "output_type": "display_data"
    },
    {
     "name": "stdout",
     "output_type": "stream",
     "text": [
      "Starting prediction: \n",
      "{'batch_size': 128, 'verbose': 1}\n",
      "Predicting on 7189 samples\n",
      "57/57 [==============================] - 1s 10ms/step\n",
      "Evaluating predictions! Total samples:  7189\n",
      "Metrics info: \n",
      "{'accuracy': 0.6215050772012798, 'binary_f1': 0.7094500800854243}\n",
      "Multi-input classification evaluation: \n",
      "\n",
      "              precision    recall  f1-score   support\n",
      "\n",
      "     REFUTES       0.80      0.32      0.46      3583\n",
      "    SUPPORTS       0.58      0.92      0.71      3606\n",
      "\n",
      "    accuracy                           0.62      7189\n",
      "   macro avg       0.69      0.62      0.58      7189\n",
      "weighted avg       0.69      0.62      0.58      7189\n",
      "\n",
      "Claim verification evaluation: \n",
      "\n",
      "              precision    recall  f1-score   support\n",
      "\n",
      "     REFUTES       0.80      0.33      0.46      3304\n",
      "    SUPPORTS       0.58      0.92      0.71      3309\n",
      "\n",
      "    accuracy                           0.62      6613\n",
      "   macro avg       0.69      0.62      0.59      6613\n",
      "weighted avg       0.69      0.62      0.59      6613\n",
      "\n"
     ]
    }
   ],
   "source": [
    "for ms in merging_strategy:\n",
    "    print('==============================={}=================================='.format(ms))\n",
    "    model = create_mlp_model('concatenation',compile_info) \n",
    "    model = train_model(model=model, x_train_Claim=x_train_Claim, x_train_Evidence=x_train_Evidence,y_train=y_train,\n",
    "                        x_val_Claim=x_val_Claim,x_val_Evidence=x_val_Evidence, y_val=y_val, training_info=training_info)\n",
    "    test_predictions = predict_data(model=model, x_test_Claim=x_test_Claim,x_test_Evidence=x_test_Evidence,\n",
    "                                        prediction_info=prediction_info)\n",
    "    test_predictions = np.round(test_predictions,0).astype(np.int32)\n",
    "    metric_info = evaluate_predictions(predictions=test_predictions,\n",
    "                                    y=y_test,\n",
    "                                    metrics=metrics,\n",
    "                                    metric_names=metric_names)\n",
    "    print('Metrics info: \\n{}'.format(metric_info))\n",
    "    print('Multi-input classification evaluation: \\n')\n",
    "    print_evaluation(y_test,test_predictions)\n",
    "    print('Claim verification evaluation: \\n')\n",
    "    print_verifEvaluation(test_predictions)\n",
    "    "
   ]
  }
 ],
 "metadata": {
  "interpreter": {
   "hash": "9d6321f44481eb46a73bf81dc16280167257041196987c880b4339fc7b585d76"
  },
  "kernelspec": {
   "display_name": "Python 3.8.8 64-bit ('base': conda)",
   "language": "python",
   "name": "python3"
  },
  "language_info": {
   "codemirror_mode": {
    "name": "ipython",
    "version": 3
   },
   "file_extension": ".py",
   "mimetype": "text/x-python",
   "name": "python",
   "nbconvert_exporter": "python",
   "pygments_lexer": "ipython3",
   "version": "3.8.8"
  },
  "orig_nbformat": 4
 },
 "nbformat": 4,
 "nbformat_minor": 2
}
